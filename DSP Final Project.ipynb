{
 "cells": [
  {
   "cell_type": "markdown",
   "metadata": {},
   "source": [
    "# Used Cars Analysis and Prediction"
   ]
  },
  {
   "cell_type": "code",
   "execution_count": 3,
   "metadata": {},
   "outputs": [],
   "source": [
    "# Import Statements\n",
    "\n",
    "import numpy as np\n",
    "import pandas as pd\n",
    "\n",
    "import matplotlib.pyplot as plt\n",
    "%matplotlib inline\n",
    "\n",
    "import seaborn as sns\n",
    "\n",
    "import warnings\n",
    "warnings.filterwarnings('ignore')\n"
   ]
  },
  {
   "cell_type": "code",
   "execution_count": 4,
   "metadata": {},
   "outputs": [],
   "source": [
    "df_v1 = pd.read_csv(\"cars.com.csv\")"
   ]
  },
  {
   "cell_type": "code",
   "execution_count": 5,
   "metadata": {},
   "outputs": [
    {
     "data": {
      "text/html": [
       "<div>\n",
       "<style scoped>\n",
       "    .dataframe tbody tr th:only-of-type {\n",
       "        vertical-align: middle;\n",
       "    }\n",
       "\n",
       "    .dataframe tbody tr th {\n",
       "        vertical-align: top;\n",
       "    }\n",
       "\n",
       "    .dataframe thead th {\n",
       "        text-align: right;\n",
       "    }\n",
       "</style>\n",
       "<table border=\"1\" class=\"dataframe\">\n",
       "  <thead>\n",
       "    <tr style=\"text-align: right;\">\n",
       "      <th></th>\n",
       "      <th>NAME</th>\n",
       "      <th>MILES</th>\n",
       "      <th>LOCATION</th>\n",
       "      <th>DISTANCE</th>\n",
       "      <th>PRICE_USD</th>\n",
       "      <th>TYPE</th>\n",
       "    </tr>\n",
       "  </thead>\n",
       "  <tbody>\n",
       "    <tr>\n",
       "      <th>0</th>\n",
       "      <td>2007 Hyundai Tiburon GS I4 Automatic</td>\n",
       "      <td>43296</td>\n",
       "      <td>Port Richey, FL</td>\n",
       "      <td>27.0</td>\n",
       "      <td>4990</td>\n",
       "      <td>Coupe</td>\n",
       "    </tr>\n",
       "    <tr>\n",
       "      <th>1</th>\n",
       "      <td>2009 Nissan Altima 2.5 S Coupe CVT</td>\n",
       "      <td>81669</td>\n",
       "      <td>Tampa, FL</td>\n",
       "      <td>9.0</td>\n",
       "      <td>6999</td>\n",
       "      <td>Coupe</td>\n",
       "    </tr>\n",
       "    <tr>\n",
       "      <th>2</th>\n",
       "      <td>2015 Scion tC Base Automatic</td>\n",
       "      <td>27035</td>\n",
       "      <td>Seffner, FL</td>\n",
       "      <td>17.0</td>\n",
       "      <td>11994</td>\n",
       "      <td>Coupe</td>\n",
       "    </tr>\n",
       "    <tr>\n",
       "      <th>3</th>\n",
       "      <td>2011 Nissan Altima 2.5 S Coupe CVT</td>\n",
       "      <td>104808</td>\n",
       "      <td>St. Petersburg, FL</td>\n",
       "      <td>16.0</td>\n",
       "      <td>6500</td>\n",
       "      <td>Coupe</td>\n",
       "    </tr>\n",
       "    <tr>\n",
       "      <th>4</th>\n",
       "      <td>2013 MINI Cooper Coupe Coupe</td>\n",
       "      <td>16878</td>\n",
       "      <td>Palm Harbor, FL</td>\n",
       "      <td>15.0</td>\n",
       "      <td>12962</td>\n",
       "      <td>Coupe</td>\n",
       "    </tr>\n",
       "  </tbody>\n",
       "</table>\n",
       "</div>"
      ],
      "text/plain": [
       "                                   NAME   MILES            LOCATION  DISTANCE  \\\n",
       "0  2007 Hyundai Tiburon GS I4 Automatic   43296     Port Richey, FL      27.0   \n",
       "1    2009 Nissan Altima 2.5 S Coupe CVT   81669           Tampa, FL       9.0   \n",
       "2          2015 Scion tC Base Automatic   27035         Seffner, FL      17.0   \n",
       "3    2011 Nissan Altima 2.5 S Coupe CVT  104808  St. Petersburg, FL      16.0   \n",
       "4          2013 MINI Cooper Coupe Coupe   16878     Palm Harbor, FL      15.0   \n",
       "\n",
       "   PRICE_USD   TYPE  \n",
       "0       4990  Coupe  \n",
       "1       6999  Coupe  \n",
       "2      11994  Coupe  \n",
       "3       6500  Coupe  \n",
       "4      12962  Coupe  "
      ]
     },
     "execution_count": 5,
     "metadata": {},
     "output_type": "execute_result"
    }
   ],
   "source": [
    "df_v1.head()"
   ]
  },
  {
   "cell_type": "code",
   "execution_count": 6,
   "metadata": {},
   "outputs": [],
   "source": [
    "# Extracting year of manufacturing from the name column\n",
    "df_v1['YEAR'] = df_v1['NAME'].str[:4]"
   ]
  },
  {
   "cell_type": "code",
   "execution_count": 7,
   "metadata": {},
   "outputs": [],
   "source": [
    "# Creating subtrings\n",
    "df_v1['CNAME'] = df_v1['NAME'].str.split()"
   ]
  },
  {
   "cell_type": "code",
   "execution_count": 8,
   "metadata": {},
   "outputs": [
    {
     "data": {
      "text/plain": [
       "(23655, 8)"
      ]
     },
     "execution_count": 8,
     "metadata": {},
     "output_type": "execute_result"
    }
   ],
   "source": [
    "df_v1.shape"
   ]
  },
  {
   "cell_type": "code",
   "execution_count": 9,
   "metadata": {},
   "outputs": [],
   "source": [
    "# Sperating manufacturing company from Name substrings\n",
    "clist= []\n",
    "for i in range(23655):\n",
    "    clist.append(df_v1['CNAME'][i][1])\n",
    "df_v1['COMPANY'] = clist"
   ]
  },
  {
   "cell_type": "code",
   "execution_count": 10,
   "metadata": {},
   "outputs": [],
   "source": [
    "#drop column CNAME, creating version 2\n",
    "df_v2 = df_v1.drop(['CNAME','NAME'],axis=1)"
   ]
  },
  {
   "cell_type": "code",
   "execution_count": 11,
   "metadata": {},
   "outputs": [
    {
     "data": {
      "text/html": [
       "<div>\n",
       "<style scoped>\n",
       "    .dataframe tbody tr th:only-of-type {\n",
       "        vertical-align: middle;\n",
       "    }\n",
       "\n",
       "    .dataframe tbody tr th {\n",
       "        vertical-align: top;\n",
       "    }\n",
       "\n",
       "    .dataframe thead th {\n",
       "        text-align: right;\n",
       "    }\n",
       "</style>\n",
       "<table border=\"1\" class=\"dataframe\">\n",
       "  <thead>\n",
       "    <tr style=\"text-align: right;\">\n",
       "      <th></th>\n",
       "      <th>MILES</th>\n",
       "      <th>LOCATION</th>\n",
       "      <th>DISTANCE</th>\n",
       "      <th>PRICE_USD</th>\n",
       "      <th>TYPE</th>\n",
       "      <th>YEAR</th>\n",
       "      <th>COMPANY</th>\n",
       "    </tr>\n",
       "  </thead>\n",
       "  <tbody>\n",
       "    <tr>\n",
       "      <th>0</th>\n",
       "      <td>43296</td>\n",
       "      <td>Port Richey, FL</td>\n",
       "      <td>27.0</td>\n",
       "      <td>4990</td>\n",
       "      <td>Coupe</td>\n",
       "      <td>2007</td>\n",
       "      <td>Hyundai</td>\n",
       "    </tr>\n",
       "    <tr>\n",
       "      <th>1</th>\n",
       "      <td>81669</td>\n",
       "      <td>Tampa, FL</td>\n",
       "      <td>9.0</td>\n",
       "      <td>6999</td>\n",
       "      <td>Coupe</td>\n",
       "      <td>2009</td>\n",
       "      <td>Nissan</td>\n",
       "    </tr>\n",
       "    <tr>\n",
       "      <th>2</th>\n",
       "      <td>27035</td>\n",
       "      <td>Seffner, FL</td>\n",
       "      <td>17.0</td>\n",
       "      <td>11994</td>\n",
       "      <td>Coupe</td>\n",
       "      <td>2015</td>\n",
       "      <td>Scion</td>\n",
       "    </tr>\n",
       "    <tr>\n",
       "      <th>3</th>\n",
       "      <td>104808</td>\n",
       "      <td>St. Petersburg, FL</td>\n",
       "      <td>16.0</td>\n",
       "      <td>6500</td>\n",
       "      <td>Coupe</td>\n",
       "      <td>2011</td>\n",
       "      <td>Nissan</td>\n",
       "    </tr>\n",
       "    <tr>\n",
       "      <th>4</th>\n",
       "      <td>16878</td>\n",
       "      <td>Palm Harbor, FL</td>\n",
       "      <td>15.0</td>\n",
       "      <td>12962</td>\n",
       "      <td>Coupe</td>\n",
       "      <td>2013</td>\n",
       "      <td>MINI</td>\n",
       "    </tr>\n",
       "  </tbody>\n",
       "</table>\n",
       "</div>"
      ],
      "text/plain": [
       "    MILES            LOCATION  DISTANCE  PRICE_USD   TYPE  YEAR  COMPANY\n",
       "0   43296     Port Richey, FL      27.0       4990  Coupe  2007  Hyundai\n",
       "1   81669           Tampa, FL       9.0       6999  Coupe  2009   Nissan\n",
       "2   27035         Seffner, FL      17.0      11994  Coupe  2015    Scion\n",
       "3  104808  St. Petersburg, FL      16.0       6500  Coupe  2011   Nissan\n",
       "4   16878     Palm Harbor, FL      15.0      12962  Coupe  2013     MINI"
      ]
     },
     "execution_count": 11,
     "metadata": {},
     "output_type": "execute_result"
    }
   ],
   "source": [
    "df_v2.head()"
   ]
  },
  {
   "cell_type": "code",
   "execution_count": 12,
   "metadata": {},
   "outputs": [
    {
     "name": "stdout",
     "output_type": "stream",
     "text": [
      "<class 'pandas.core.frame.DataFrame'>\n",
      "RangeIndex: 23655 entries, 0 to 23654\n",
      "Data columns (total 7 columns):\n",
      "MILES        23655 non-null int64\n",
      "LOCATION     23655 non-null object\n",
      "DISTANCE     23652 non-null float64\n",
      "PRICE_USD    23655 non-null int64\n",
      "TYPE         23655 non-null object\n",
      "YEAR         23655 non-null object\n",
      "COMPANY      23655 non-null object\n",
      "dtypes: float64(1), int64(2), object(4)\n",
      "memory usage: 1.3+ MB\n"
     ]
    }
   ],
   "source": [
    "df_v2.info()"
   ]
  },
  {
   "cell_type": "markdown",
   "metadata": {},
   "source": [
    "Dropping 3 rows with missing values"
   ]
  },
  {
   "cell_type": "code",
   "execution_count": 13,
   "metadata": {},
   "outputs": [
    {
     "name": "stdout",
     "output_type": "stream",
     "text": [
      "<class 'pandas.core.frame.DataFrame'>\n",
      "Int64Index: 23652 entries, 0 to 23654\n",
      "Data columns (total 7 columns):\n",
      "MILES        23652 non-null int64\n",
      "LOCATION     23652 non-null object\n",
      "DISTANCE     23652 non-null float64\n",
      "PRICE_USD    23652 non-null int64\n",
      "TYPE         23652 non-null object\n",
      "YEAR         23652 non-null object\n",
      "COMPANY      23652 non-null object\n",
      "dtypes: float64(1), int64(2), object(4)\n",
      "memory usage: 1.4+ MB\n"
     ]
    }
   ],
   "source": [
    "\n",
    "df_v3 = df_v2.dropna()\n",
    "df_v3.info()"
   ]
  },
  {
   "cell_type": "markdown",
   "metadata": {},
   "source": [
    "## Exploratory Data Analysis "
   ]
  },
  {
   "cell_type": "markdown",
   "metadata": {},
   "source": [
    "#### Our first hypothesis, miles driven is inversely correlated with price"
   ]
  },
  {
   "cell_type": "markdown",
   "metadata": {},
   "source": [
    "Numerical Data : Miles"
   ]
  },
  {
   "cell_type": "code",
   "execution_count": 14,
   "metadata": {
    "scrolled": false
   },
   "outputs": [
    {
     "data": {
      "text/plain": [
       "<matplotlib.axes._subplots.AxesSubplot at 0x1a680a2f128>"
      ]
     },
     "execution_count": 14,
     "metadata": {},
     "output_type": "execute_result"
    },
    {
     "data": {
      "image/png": "[encoded data removed]",
      "text/plain": [
       "<Figure size 432x288 with 1 Axes>"
      ]
     },
     "metadata": {
      "needs_background": "light"
     },
     "output_type": "display_data"
    }
   ],
   "source": [
    "df_v3.MILES.hist() "
   ]
  },
  {
   "cell_type": "markdown",
   "metadata": {},
   "source": [
    " Need to apply some transformation as data 'MILES' is not distributed normally"
   ]
  },
  {
   "cell_type": "code",
   "execution_count": 16,
   "metadata": {},
   "outputs": [
    {
     "data": {
      "text/plain": [
       "<matplotlib.axes._subplots.AxesSubplot at 0x1a682718da0>"
      ]
     },
     "execution_count": 16,
     "metadata": {},
     "output_type": "execute_result"
    },
    {
     "data": {
      "image/png": "[encoded data removed]",
      "text/plain": [
       "<Figure size 432x288 with 1 Axes>"
      ]
     },
     "metadata": {
      "needs_background": "light"
     },
     "output_type": "display_data"
    }
   ],
   "source": [
    "df_v3.MILES.apply(np.log).hist()"
   ]
  },
  {
   "cell_type": "code",
   "execution_count": 17,
   "metadata": {
    "scrolled": true
   },
   "outputs": [
    {
     "data": {
      "text/plain": [
       "<matplotlib.axes._subplots.AxesSubplot at 0x1a682bb2940>"
      ]
     },
     "execution_count": 17,
     "metadata": {},
     "output_type": "execute_result"
    },
    {
     "data": {
      "image/png": "[encoded data removed]",
      "text/plain": [
       "<Figure size 432x288 with 1 Axes>"
      ]
     },
     "metadata": {
      "needs_background": "light"
     },
     "output_type": "display_data"
    }
   ],
   "source": [
    "df_v2.MILES.apply(np.sqrt).hist() "
   ]
  },
  {
   "cell_type": "markdown",
   "metadata": {},
   "source": [
    "Best for OLS model, will apply this transformation when we finish our EDA."
   ]
  },
  {
   "cell_type": "code",
   "execution_count": 18,
   "metadata": {},
   "outputs": [
    {
     "data": {
      "text/plain": [
       "<seaborn.axisgrid.FacetGrid at 0x1a682bb2668>"
      ]
     },
     "execution_count": 18,
     "metadata": {},
     "output_type": "execute_result"
    },
    {
     "data": {
      "image/png": "[encoded data removed]",
      "text/plain": [
       "<Figure size 360x360 with 1 Axes>"
      ]
     },
     "metadata": {
      "needs_background": "light"
     },
     "output_type": "display_data"
    }
   ],
   "source": [
    "sns.lmplot(x = 'MILES', y= 'PRICE_USD',data = df_v3)"
   ]
  },
  {
   "cell_type": "markdown",
   "metadata": {},
   "source": [
    "Categorical variables"
   ]
  },
  {
   "cell_type": "code",
   "execution_count": 19,
   "metadata": {},
   "outputs": [
    {
     "data": {
      "text/plain": [
       "<matplotlib.axes._subplots.AxesSubplot at 0x1a682f94fd0>"
      ]
     },
     "execution_count": 19,
     "metadata": {},
     "output_type": "execute_result"
    },
    {
     "data": {
      "image/png": "[encoded data removed]",
      "text/plain": [
       "<Figure size 432x288 with 1 Axes>"
      ]
     },
     "metadata": {
      "needs_background": "light"
     },
     "output_type": "display_data"
    }
   ],
   "source": [
    "df_v3['LOCATION'].value_counts()[:10].plot(kind='barh') # Top 10 location of cars sold"
   ]
  },
  {
   "cell_type": "code",
   "execution_count": 20,
   "metadata": {},
   "outputs": [
    {
     "data": {
      "text/plain": [
       "array(['2007', '2009', '2015', '2011', '2013', '2016', '2014', '2008',\n",
       "       '2017', '2012', '2006', '2018', '2010', '2002', '2005', '2004'],\n",
       "      dtype=object)"
      ]
     },
     "execution_count": 20,
     "metadata": {},
     "output_type": "execute_result"
    }
   ],
   "source": [
    "df_v3['YEAR'].unique()"
   ]
  },
  {
   "cell_type": "code",
   "execution_count": 21,
   "metadata": {},
   "outputs": [
    {
     "data": {
      "text/plain": [
       "array(['Hyundai', 'Nissan', 'Scion', 'MINI', 'Honda', 'Mercedes-Benz',\n",
       "       'Chevrolet', 'BMW', 'Chrysler', 'Kia', 'Mazda', 'Volkswagen',\n",
       "       'Ford', 'Dodge', 'Subaru', 'Toyota', 'Lexus', 'Mitsubishi', 'Jeep',\n",
       "       'Land', 'Buick', 'GMC', 'Ram', 'Suzuki', 'Audi', 'Jaguar', 'Volvo',\n",
       "       'Pontiac', 'INFINITI', 'Cadillac'], dtype=object)"
      ]
     },
     "execution_count": 21,
     "metadata": {},
     "output_type": "execute_result"
    }
   ],
   "source": [
    "df_v3['COMPANY'].unique()"
   ]
  },
  {
   "cell_type": "markdown",
   "metadata": {},
   "source": [
    "Creating a function to visualize The average price of each type of vehicle, for a given YEAR model"
   ]
  },
  {
   "cell_type": "code",
   "execution_count": 22,
   "metadata": {},
   "outputs": [
    {
     "data": {
      "image/png": "[encoded data removed]",
      "text/plain": [
       "<Figure size 1080x720 with 1 Axes>"
      ]
     },
     "metadata": {
      "needs_background": "light"
     },
     "output_type": "display_data"
    }
   ],
   "source": [
    "\n",
    "def filt_year(year):\n",
    "    plt.figure(figsize=(15,10))\n",
    "    plt.xticks(rotation=90)\n",
    "    df_v3_filtered=df_v3[(df_v3.YEAR.astype('int') == year)  ]\n",
    "    sns.barplot(data=df_v3_filtered,x=\"TYPE\",y=\"PRICE_USD\",orient=\"H\").set_title(\"Average price of Car Types of \" + str( year)+ \" models\" )\n",
    "    \n",
    "year = 2017\n",
    "filt_year(year)"
   ]
  },
  {
   "cell_type": "markdown",
   "metadata": {
    "collapsed": true
   },
   "source": [
    "Creating a function to visualize The total number of vehicles for all companies for a given YEAR model"
   ]
  },
  {
   "cell_type": "code",
   "execution_count": 23,
   "metadata": {},
   "outputs": [
    {
     "data": {
      "image/png": "[encoded data removed]",
      "text/plain": [
       "<Figure size 1080x720 with 1 Axes>"
      ]
     },
     "metadata": {
      "needs_background": "light"
     },
     "output_type": "display_data"
    }
   ],
   "source": [
    "def filt_year1(year1):\n",
    "    plt.figure(figsize=(15,10))\n",
    "    plt.xticks(rotation=90)\n",
    "    df_v3_filtered=df_v3[(df_v3.YEAR.astype('int') == year1)  ]\n",
    "    sns.countplot(df_v3_filtered['COMPANY'],orient = \"h\", order = df_v3_filtered['COMPANY'].value_counts().index).set_title(\"Number of Cars by Car Companies of \" + str( year)+ \" models\" )\n",
    "\n",
    "year1 = 2011\n",
    "filt_year1(year1)"
   ]
  },
  {
   "cell_type": "markdown",
   "metadata": {},
   "source": [
    "## Data Preprocessing\n"
   ]
  },
  {
   "cell_type": "markdown",
   "metadata": {},
   "source": [
    "Transforming the numeric variable 'MILES' and normalizing it."
   ]
  },
  {
   "cell_type": "code",
   "execution_count": 24,
   "metadata": {},
   "outputs": [],
   "source": [
    "df_v3.MILES =  df_v3.MILES.apply(np.sqrt)\n"
   ]
  },
  {
   "cell_type": "code",
   "execution_count": 25,
   "metadata": {},
   "outputs": [
    {
     "data": {
      "text/plain": [
       "0    208.076909\n",
       "1    285.777886\n",
       "2    164.423234\n",
       "3    323.740637\n",
       "4    129.915357\n",
       "Name: MILES, dtype: float64"
      ]
     },
     "execution_count": 25,
     "metadata": {},
     "output_type": "execute_result"
    }
   ],
   "source": [
    "df_v3.MILES.head()"
   ]
  },
  {
   "cell_type": "markdown",
   "metadata": {},
   "source": [
    "Creating dummy variables for categorical variables!"
   ]
  },
  {
   "cell_type": "code",
   "execution_count": 26,
   "metadata": {
    "scrolled": true
   },
   "outputs": [
    {
     "name": "stdout",
     "output_type": "stream",
     "text": [
      "<class 'pandas.core.frame.DataFrame'>\n",
      "Int64Index: 5 entries, 0 to 4\n",
      "Columns: 133 entries, MILES to COMPANY_Volvo\n",
      "dtypes: float64(2), int64(1), uint8(130)\n",
      "memory usage: 810.0 bytes\n"
     ]
    }
   ],
   "source": [
    "pd.get_dummies(df_v3).head().info()"
   ]
  },
  {
   "cell_type": "markdown",
   "metadata": {},
   "source": [
    "### 133 columns!!! Too many. Lets use auto-encoders."
   ]
  },
  {
   "cell_type": "code",
   "execution_count": 27,
   "metadata": {},
   "outputs": [
    {
     "name": "stdout",
     "output_type": "stream",
     "text": [
      "<class 'pandas.core.frame.DataFrame'>\n",
      "Int64Index: 23652 entries, 0 to 23654\n",
      "Data columns (total 7 columns):\n",
      "MILES        23652 non-null float64\n",
      "LOCATION     23652 non-null object\n",
      "DISTANCE     23652 non-null float64\n",
      "PRICE_USD    23652 non-null int64\n",
      "TYPE         23652 non-null object\n",
      "YEAR         23652 non-null object\n",
      "COMPANY      23652 non-null object\n",
      "dtypes: float64(2), int64(1), object(4)\n",
      "memory usage: 1.4+ MB\n"
     ]
    }
   ],
   "source": [
    "df_v3.info()"
   ]
  },
  {
   "cell_type": "code",
   "execution_count": 28,
   "metadata": {},
   "outputs": [],
   "source": [
    "#import LabelEncoder\n",
    "from sklearn.preprocessing import LabelEncoder\n",
    "#convert column categories to numeric using Label Encoder\n",
    "#Reference: http://pbpython.com/categorical-encoding.html\n",
    "encoder = LabelEncoder()\n",
    "df_v3[\"TYPE\"] = encoder.fit_transform(df_v3[\"TYPE\"])\n",
    "df_v3[\"COMPANY\"] = encoder.fit_transform(df_v3[\"COMPANY\"])\n",
    "df_v3[\"YEAR\"] = encoder.fit_transform(df_v3[\"YEAR\"])\n",
    "df_v3[\"LOCATION\"] = encoder.fit_transform(df_v3[\"LOCATION\"])\n"
   ]
  },
  {
   "cell_type": "code",
   "execution_count": 29,
   "metadata": {},
   "outputs": [
    {
     "data": {
      "text/html": [
       "<div>\n",
       "<style scoped>\n",
       "    .dataframe tbody tr th:only-of-type {\n",
       "        vertical-align: middle;\n",
       "    }\n",
       "\n",
       "    .dataframe tbody tr th {\n",
       "        vertical-align: top;\n",
       "    }\n",
       "\n",
       "    .dataframe thead th {\n",
       "        text-align: right;\n",
       "    }\n",
       "</style>\n",
       "<table border=\"1\" class=\"dataframe\">\n",
       "  <thead>\n",
       "    <tr style=\"text-align: right;\">\n",
       "      <th></th>\n",
       "      <th>MILES</th>\n",
       "      <th>LOCATION</th>\n",
       "      <th>DISTANCE</th>\n",
       "      <th>PRICE_USD</th>\n",
       "      <th>TYPE</th>\n",
       "      <th>YEAR</th>\n",
       "      <th>COMPANY</th>\n",
       "    </tr>\n",
       "  </thead>\n",
       "  <tbody>\n",
       "    <tr>\n",
       "      <th>0</th>\n",
       "      <td>208.076909</td>\n",
       "      <td>56</td>\n",
       "      <td>27.0</td>\n",
       "      <td>4990</td>\n",
       "      <td>1</td>\n",
       "      <td>4</td>\n",
       "      <td>10</td>\n",
       "    </tr>\n",
       "    <tr>\n",
       "      <th>1</th>\n",
       "      <td>285.777886</td>\n",
       "      <td>68</td>\n",
       "      <td>9.0</td>\n",
       "      <td>6999</td>\n",
       "      <td>1</td>\n",
       "      <td>6</td>\n",
       "      <td>21</td>\n",
       "    </tr>\n",
       "    <tr>\n",
       "      <th>2</th>\n",
       "      <td>164.423234</td>\n",
       "      <td>60</td>\n",
       "      <td>17.0</td>\n",
       "      <td>11994</td>\n",
       "      <td>1</td>\n",
       "      <td>12</td>\n",
       "      <td>24</td>\n",
       "    </tr>\n",
       "    <tr>\n",
       "      <th>3</th>\n",
       "      <td>323.740637</td>\n",
       "      <td>65</td>\n",
       "      <td>16.0</td>\n",
       "      <td>6500</td>\n",
       "      <td>1</td>\n",
       "      <td>8</td>\n",
       "      <td>21</td>\n",
       "    </tr>\n",
       "    <tr>\n",
       "      <th>4</th>\n",
       "      <td>129.915357</td>\n",
       "      <td>52</td>\n",
       "      <td>15.0</td>\n",
       "      <td>12962</td>\n",
       "      <td>1</td>\n",
       "      <td>10</td>\n",
       "      <td>17</td>\n",
       "    </tr>\n",
       "  </tbody>\n",
       "</table>\n",
       "</div>"
      ],
      "text/plain": [
       "        MILES  LOCATION  DISTANCE  PRICE_USD  TYPE  YEAR  COMPANY\n",
       "0  208.076909        56      27.0       4990     1     4       10\n",
       "1  285.777886        68       9.0       6999     1     6       21\n",
       "2  164.423234        60      17.0      11994     1    12       24\n",
       "3  323.740637        65      16.0       6500     1     8       21\n",
       "4  129.915357        52      15.0      12962     1    10       17"
      ]
     },
     "execution_count": 29,
     "metadata": {},
     "output_type": "execute_result"
    }
   ],
   "source": [
    "df_v3.head()"
   ]
  },
  {
   "cell_type": "markdown",
   "metadata": {},
   "source": [
    "## Machine Learning"
   ]
  },
  {
   "cell_type": "code",
   "execution_count": 30,
   "metadata": {},
   "outputs": [],
   "source": [
    "df_v3['PRICE'] = df_v3.PRICE_USD\n"
   ]
  },
  {
   "cell_type": "code",
   "execution_count": 31,
   "metadata": {},
   "outputs": [],
   "source": [
    "df_v3 = df_v3.drop(['PRICE_USD'],axis=1)"
   ]
  },
  {
   "cell_type": "code",
   "execution_count": 32,
   "metadata": {},
   "outputs": [
    {
     "data": {
      "text/html": [
       "<div>\n",
       "<style scoped>\n",
       "    .dataframe tbody tr th:only-of-type {\n",
       "        vertical-align: middle;\n",
       "    }\n",
       "\n",
       "    .dataframe tbody tr th {\n",
       "        vertical-align: top;\n",
       "    }\n",
       "\n",
       "    .dataframe thead th {\n",
       "        text-align: right;\n",
       "    }\n",
       "</style>\n",
       "<table border=\"1\" class=\"dataframe\">\n",
       "  <thead>\n",
       "    <tr style=\"text-align: right;\">\n",
       "      <th></th>\n",
       "      <th>MILES</th>\n",
       "      <th>LOCATION</th>\n",
       "      <th>DISTANCE</th>\n",
       "      <th>TYPE</th>\n",
       "      <th>YEAR</th>\n",
       "      <th>COMPANY</th>\n",
       "      <th>PRICE</th>\n",
       "    </tr>\n",
       "  </thead>\n",
       "  <tbody>\n",
       "    <tr>\n",
       "      <th>0</th>\n",
       "      <td>208.076909</td>\n",
       "      <td>56</td>\n",
       "      <td>27.0</td>\n",
       "      <td>1</td>\n",
       "      <td>4</td>\n",
       "      <td>10</td>\n",
       "      <td>4990</td>\n",
       "    </tr>\n",
       "    <tr>\n",
       "      <th>1</th>\n",
       "      <td>285.777886</td>\n",
       "      <td>68</td>\n",
       "      <td>9.0</td>\n",
       "      <td>1</td>\n",
       "      <td>6</td>\n",
       "      <td>21</td>\n",
       "      <td>6999</td>\n",
       "    </tr>\n",
       "    <tr>\n",
       "      <th>2</th>\n",
       "      <td>164.423234</td>\n",
       "      <td>60</td>\n",
       "      <td>17.0</td>\n",
       "      <td>1</td>\n",
       "      <td>12</td>\n",
       "      <td>24</td>\n",
       "      <td>11994</td>\n",
       "    </tr>\n",
       "    <tr>\n",
       "      <th>3</th>\n",
       "      <td>323.740637</td>\n",
       "      <td>65</td>\n",
       "      <td>16.0</td>\n",
       "      <td>1</td>\n",
       "      <td>8</td>\n",
       "      <td>21</td>\n",
       "      <td>6500</td>\n",
       "    </tr>\n",
       "    <tr>\n",
       "      <th>4</th>\n",
       "      <td>129.915357</td>\n",
       "      <td>52</td>\n",
       "      <td>15.0</td>\n",
       "      <td>1</td>\n",
       "      <td>10</td>\n",
       "      <td>17</td>\n",
       "      <td>12962</td>\n",
       "    </tr>\n",
       "  </tbody>\n",
       "</table>\n",
       "</div>"
      ],
      "text/plain": [
       "        MILES  LOCATION  DISTANCE  TYPE  YEAR  COMPANY  PRICE\n",
       "0  208.076909        56      27.0     1     4       10   4990\n",
       "1  285.777886        68       9.0     1     6       21   6999\n",
       "2  164.423234        60      17.0     1    12       24  11994\n",
       "3  323.740637        65      16.0     1     8       21   6500\n",
       "4  129.915357        52      15.0     1    10       17  12962"
      ]
     },
     "execution_count": 32,
     "metadata": {},
     "output_type": "execute_result"
    }
   ],
   "source": [
    "df_v3.head()"
   ]
  },
  {
   "cell_type": "markdown",
   "metadata": {},
   "source": [
    "Splitting into training and test data"
   ]
  },
  {
   "cell_type": "code",
   "execution_count": 33,
   "metadata": {},
   "outputs": [],
   "source": [
    "from sklearn.model_selection import train_test_split\n",
    "\n",
    "X=df_v3.loc[:,\"MILES\":\"COMPANY\"]\n",
    "\n",
    "Y = df_v3.loc[:,\"PRICE\"]\n",
    "X_train, X_test, Y_train, Y_test = train_test_split(X, Y, test_size=0.2, random_state=0)\n"
   ]
  },
  {
   "cell_type": "code",
   "execution_count": 34,
   "metadata": {},
   "outputs": [
    {
     "data": {
      "text/html": [
       "<div>\n",
       "<style scoped>\n",
       "    .dataframe tbody tr th:only-of-type {\n",
       "        vertical-align: middle;\n",
       "    }\n",
       "\n",
       "    .dataframe tbody tr th {\n",
       "        vertical-align: top;\n",
       "    }\n",
       "\n",
       "    .dataframe thead th {\n",
       "        text-align: right;\n",
       "    }\n",
       "</style>\n",
       "<table border=\"1\" class=\"dataframe\">\n",
       "  <thead>\n",
       "    <tr style=\"text-align: right;\">\n",
       "      <th></th>\n",
       "      <th>MILES</th>\n",
       "      <th>LOCATION</th>\n",
       "      <th>DISTANCE</th>\n",
       "      <th>TYPE</th>\n",
       "      <th>YEAR</th>\n",
       "      <th>COMPANY</th>\n",
       "    </tr>\n",
       "  </thead>\n",
       "  <tbody>\n",
       "    <tr>\n",
       "      <th>12234</th>\n",
       "      <td>210.658491</td>\n",
       "      <td>68</td>\n",
       "      <td>3.0</td>\n",
       "      <td>6</td>\n",
       "      <td>10</td>\n",
       "      <td>7</td>\n",
       "    </tr>\n",
       "    <tr>\n",
       "      <th>9426</th>\n",
       "      <td>202.783135</td>\n",
       "      <td>60</td>\n",
       "      <td>17.0</td>\n",
       "      <td>4</td>\n",
       "      <td>12</td>\n",
       "      <td>4</td>\n",
       "    </tr>\n",
       "    <tr>\n",
       "      <th>22058</th>\n",
       "      <td>95.168272</td>\n",
       "      <td>68</td>\n",
       "      <td>3.0</td>\n",
       "      <td>5</td>\n",
       "      <td>15</td>\n",
       "      <td>10</td>\n",
       "    </tr>\n",
       "    <tr>\n",
       "      <th>16462</th>\n",
       "      <td>274.490437</td>\n",
       "      <td>68</td>\n",
       "      <td>2.0</td>\n",
       "      <td>5</td>\n",
       "      <td>3</td>\n",
       "      <td>3</td>\n",
       "    </tr>\n",
       "    <tr>\n",
       "      <th>4785</th>\n",
       "      <td>146.280552</td>\n",
       "      <td>68</td>\n",
       "      <td>3.0</td>\n",
       "      <td>4</td>\n",
       "      <td>15</td>\n",
       "      <td>20</td>\n",
       "    </tr>\n",
       "  </tbody>\n",
       "</table>\n",
       "</div>"
      ],
      "text/plain": [
       "            MILES  LOCATION  DISTANCE  TYPE  YEAR  COMPANY\n",
       "12234  210.658491        68       3.0     6    10        7\n",
       "9426   202.783135        60      17.0     4    12        4\n",
       "22058   95.168272        68       3.0     5    15       10\n",
       "16462  274.490437        68       2.0     5     3        3\n",
       "4785   146.280552        68       3.0     4    15       20"
      ]
     },
     "execution_count": 34,
     "metadata": {},
     "output_type": "execute_result"
    }
   ],
   "source": [
    "X_train.head()"
   ]
  },
  {
   "cell_type": "raw",
   "metadata": {},
   "source": [
    "shuffle_index = np.random.permutation(18921)\n",
    "\n",
    "X_train, y_train = X_train[shuffle_index], y_train[shuffle_index]"
   ]
  },
  {
   "cell_type": "markdown",
   "metadata": {},
   "source": [
    "### K-Nearest Neighbors\n"
   ]
  },
  {
   "cell_type": "code",
   "execution_count": 35,
   "metadata": {},
   "outputs": [
    {
     "name": "stdout",
     "output_type": "stream",
     "text": [
      "R Square: [0.99118203 0.99350446 0.99400888 0.98841846 0.99178703]\n",
      "RMSE Scores: [3067.9319998   262.37800421 3772.53769505 1854.72562694  443.44239996]\n",
      "Mean RMSE Score: 1880.203145193432\n"
     ]
    }
   ],
   "source": [
    "from sklearn.neighbors import KNeighborsRegressor\n",
    "from sklearn.preprocessing import StandardScaler\n",
    "from sklearn.pipeline import Pipeline\n",
    "knn =  Pipeline([\n",
    "        (\"scaler\", StandardScaler()),\n",
    "        (\"knn\", KNeighborsRegressor())\n",
    "    ])\n",
    "knn.fit(X_train, Y_train)\n",
    "\n",
    "from sklearn.model_selection import cross_val_score\n",
    "print(\"R Square:\" , cross_val_score(knn, X_train, Y_train, scoring='r2',cv=5))\n",
    "\n",
    "scores_mse = cross_val_score(knn, X, Y, scoring=\"neg_mean_squared_error\", cv=5)\n",
    "        \n",
    "rmse_scores = np.sqrt(-scores_mse)\n",
    "#Print  RMSE Score\n",
    "print(\"RMSE Scores:\", rmse_scores)\n",
    "print(\"Mean RMSE Score:\" , rmse_scores.mean())"
   ]
  },
  {
   "cell_type": "markdown",
   "metadata": {},
   "source": [
    "## Linear Regression "
   ]
  },
  {
   "cell_type": "code",
   "execution_count": 36,
   "metadata": {},
   "outputs": [
    {
     "name": "stdout",
     "output_type": "stream",
     "text": [
      "R Square: [0.53820087 0.49962063 0.52280353 0.5026074  0.52843256]\n",
      "RMSE Scores: [2773.48972248 1738.0861511  3665.10560128 3939.11883279 3474.03194366]\n",
      "Mean RMSE Score: 3117.966450263227\n"
     ]
    }
   ],
   "source": [
    "\n",
    "from sklearn.linear_model import LinearRegression\n",
    "from sklearn.linear_model import LinearRegression\n",
    "\n",
    "linear = Pipeline([\n",
    "        (\"scaler\", StandardScaler()),\n",
    "        (\"lin_reg\", LinearRegression())\n",
    "    ])\n",
    "linear.fit(X_train, Y_train)\n",
    "\n",
    "\n",
    "from sklearn.model_selection import cross_val_score\n",
    "print(\"R Square:\" , cross_val_score(linear, X_train, Y_train, scoring='r2',cv=5))\n",
    "\n",
    "scores_mse = cross_val_score(linear, X, Y, scoring=\"neg_mean_squared_error\", cv=5)\n",
    "        \n",
    "rmse_scores = np.sqrt(-scores_mse)\n",
    "#Print  RMSE Score\n",
    "print(\"RMSE Scores:\", rmse_scores)\n",
    "print(\"Mean RMSE Score:\" , rmse_scores.mean())"
   ]
  },
  {
   "cell_type": "markdown",
   "metadata": {},
   "source": [
    "# Support Vector Regressor"
   ]
  },
  {
   "cell_type": "code",
   "execution_count": 37,
   "metadata": {},
   "outputs": [
    {
     "data": {
      "text/plain": [
       "array([0.43634969, 0.36913305, 0.41592852, 0.39010885, 0.43785316])"
      ]
     },
     "execution_count": 37,
     "metadata": {},
     "output_type": "execute_result"
    }
   ],
   "source": [
    "from sklearn.svm import LinearSVR\n",
    "\n",
    "svm_reg = Pipeline([\n",
    "        (\"scaler\", StandardScaler()),\n",
    "        (\"svm_reg\", LinearSVR(epsilon = 1.5, C=5))\n",
    "    ])\n",
    "svm_reg.fit(X_train, Y_train)\n",
    "\n",
    "from sklearn.model_selection import cross_val_score\n",
    "cross_val_score(svm_reg, X_train, Y_train, scoring='r2',cv=5)"
   ]
  },
  {
   "cell_type": "markdown",
   "metadata": {},
   "source": [
    "Lets try increasing the C hyper paramter."
   ]
  },
  {
   "cell_type": "code",
   "execution_count": 38,
   "metadata": {},
   "outputs": [
    {
     "data": {
      "text/plain": [
       "array([0.52630205, 0.47767049, 0.50139149, 0.48076589, 0.5083288 ])"
      ]
     },
     "execution_count": 38,
     "metadata": {},
     "output_type": "execute_result"
    }
   ],
   "source": [
    "from sklearn.svm import LinearSVR\n",
    "\n",
    "svm_reg = Pipeline([\n",
    "        (\"scaler\", StandardScaler()),\n",
    "        (\"svm_reg\", LinearSVR(epsilon = 1.5, C=300))\n",
    "    ])\n",
    "svm_reg.fit(X_train, Y_train)\n",
    "\n",
    "from sklearn.model_selection import cross_val_score\n",
    "cross_val_score(svm_reg, X_train, Y_train, scoring='r2',cv=5)"
   ]
  },
  {
   "cell_type": "markdown",
   "metadata": {},
   "source": [
    "##Decision Tree\n",
    "\n"
   ]
  },
  {
   "cell_type": "code",
   "execution_count": 39,
   "metadata": {},
   "outputs": [
    {
     "name": "stdout",
     "output_type": "stream",
     "text": [
      "Fitting 3 folds for each of 18 candidates, totalling 54 fits\n"
     ]
    },
    {
     "name": "stderr",
     "output_type": "stream",
     "text": [
      "[Parallel(n_jobs=1)]: Using backend SequentialBackend with 1 concurrent workers.\n",
      "[Parallel(n_jobs=1)]: Done  54 out of  54 | elapsed:    1.2s finished\n"
     ]
    }
   ],
   "source": [
    "from sklearn.tree import DecisionTreeRegressor\n",
    "from sklearn.model_selection import GridSearchCV\n",
    "dtree = DecisionTreeRegressor()\n",
    "param_grid = { \"criterion\" : [\"mse\"]\n",
    "              , \"min_samples_leaf\" : [10,12,14]\n",
    "              , \"min_samples_split\" : [3,5]\n",
    "              , \"max_depth\": [4,5,7]\n",
    "              }\n",
    "gs_tree = GridSearchCV(estimator=dtree, param_grid=param_grid, cv=3, n_jobs=1, verbose=1)\n",
    "gs_tree = gs_tree.fit(X_train, Y_train)"
   ]
  },
  {
   "cell_type": "code",
   "execution_count": 40,
   "metadata": {},
   "outputs": [
    {
     "name": "stdout",
     "output_type": "stream",
     "text": [
      "0.760317818817054 {'criterion': 'mse', 'max_depth': 4, 'min_samples_leaf': 10, 'min_samples_split': 3}\n",
      "0.760317818817054 {'criterion': 'mse', 'max_depth': 4, 'min_samples_leaf': 10, 'min_samples_split': 5}\n",
      "0.760317818817054 {'criterion': 'mse', 'max_depth': 4, 'min_samples_leaf': 12, 'min_samples_split': 3}\n",
      "0.760317818817054 {'criterion': 'mse', 'max_depth': 4, 'min_samples_leaf': 12, 'min_samples_split': 5}\n",
      "0.760317818817054 {'criterion': 'mse', 'max_depth': 4, 'min_samples_leaf': 14, 'min_samples_split': 3}\n",
      "0.760317818817054 {'criterion': 'mse', 'max_depth': 4, 'min_samples_leaf': 14, 'min_samples_split': 5}\n",
      "0.8295550638122655 {'criterion': 'mse', 'max_depth': 5, 'min_samples_leaf': 10, 'min_samples_split': 3}\n",
      "0.8295550638122655 {'criterion': 'mse', 'max_depth': 5, 'min_samples_leaf': 10, 'min_samples_split': 5}\n",
      "0.829536969667363 {'criterion': 'mse', 'max_depth': 5, 'min_samples_leaf': 12, 'min_samples_split': 3}\n",
      "0.829536969667363 {'criterion': 'mse', 'max_depth': 5, 'min_samples_leaf': 12, 'min_samples_split': 5}\n",
      "0.829536969667363 {'criterion': 'mse', 'max_depth': 5, 'min_samples_leaf': 14, 'min_samples_split': 3}\n",
      "0.829536969667363 {'criterion': 'mse', 'max_depth': 5, 'min_samples_leaf': 14, 'min_samples_split': 5}\n",
      "0.9322026893178017 {'criterion': 'mse', 'max_depth': 7, 'min_samples_leaf': 10, 'min_samples_split': 3}\n",
      "0.9322303311726358 {'criterion': 'mse', 'max_depth': 7, 'min_samples_leaf': 10, 'min_samples_split': 5}\n",
      "0.931176238875895 {'criterion': 'mse', 'max_depth': 7, 'min_samples_leaf': 12, 'min_samples_split': 3}\n",
      "0.9311863845539464 {'criterion': 'mse', 'max_depth': 7, 'min_samples_leaf': 12, 'min_samples_split': 5}\n",
      "0.9308416346714277 {'criterion': 'mse', 'max_depth': 7, 'min_samples_leaf': 14, 'min_samples_split': 3}\n",
      "0.9308310323653595 {'criterion': 'mse', 'max_depth': 7, 'min_samples_leaf': 14, 'min_samples_split': 5}\n"
     ]
    }
   ],
   "source": [
    "cvres = gs_tree.cv_results_\n",
    "for mean_score, params in zip(cvres[\"mean_test_score\"],cvres[\"params\"]):\n",
    "    print(mean_score,params)"
   ]
  },
  {
   "cell_type": "code",
   "execution_count": 43,
   "metadata": {},
   "outputs": [
    {
     "name": "stdout",
     "output_type": "stream",
     "text": [
      "0.9322303311726358\n",
      "{'criterion': 'mse', 'max_depth': 7, 'min_samples_leaf': 10, 'min_samples_split': 5}\n"
     ]
    }
   ],
   "source": [
    "print(gs_tree.best_score_)\n",
    "print(gs_tree.best_params_)"
   ]
  },
  {
   "cell_type": "code",
   "execution_count": 48,
   "metadata": {},
   "outputs": [
    {
     "name": "stdout",
     "output_type": "stream",
     "text": [
      "Score: 0.95\n"
     ]
    }
   ],
   "source": [
    "bp = gs_tree.best_params_\n",
    "dtree = DecisionTreeRegressor(criterion=bp['criterion'],\n",
    "                              min_samples_leaf=bp['min_samples_leaf'],\n",
    "                              min_samples_split=bp['min_samples_split'],\n",
    "                              max_depth=bp['max_depth'],\n",
    "                              )\n",
    "dtree.fit(X_train, Y_train)\n",
    "# Explained variance score: 1 is perfect prediction\n",
    "print('Score: %.2f' % dtree.score(X_test, Y_test))"
   ]
  },
  {
   "cell_type": "code",
   "execution_count": 49,
   "metadata": {},
   "outputs": [],
   "source": [
    "import graphviz\n",
    "from sklearn import tree\n"
   ]
  },
  {
   "cell_type": "code",
   "execution_count": 50,
   "metadata": {},
   "outputs": [
    {
     "data": {
      "text/plain": [
       "'cars_tree.pdf'"
      ]
     },
     "execution_count": 50,
     "metadata": {},
     "output_type": "execute_result"
    }
   ],
   "source": [
    "dot_data = tree.export_graphviz(dtree,out_file=None)\n",
    "graph = graphviz.Source(dot_data)\n",
    "graph.render('cars_tree')"
   ]
  },
  {
   "cell_type": "code",
   "execution_count": null,
   "metadata": {},
   "outputs": [],
   "source": [
    "tree.predict"
   ]
  },
  {
   "cell_type": "markdown",
   "metadata": {},
   "source": [
    "## Random Forest Regressor\n"
   ]
  },
  {
   "cell_type": "markdown",
   "metadata": {},
   "source": [
    "We'll train a random forest regressor and use Grid Search to optimize the hyperparameter values."
   ]
  },
  {
   "cell_type": "code",
   "execution_count": 33,
   "metadata": {},
   "outputs": [
    {
     "name": "stdout",
     "output_type": "stream",
     "text": [
      "Fitting 3 folds for each of 48 candidates, totalling 144 fits\n"
     ]
    },
    {
     "name": "stderr",
     "output_type": "stream",
     "text": [
      "[Parallel(n_jobs=1)]: Using backend SequentialBackend with 1 concurrent workers.\n",
      "[Parallel(n_jobs=1)]: Done 144 out of 144 | elapsed:   35.4s finished\n"
     ]
    }
   ],
   "source": [
    "from sklearn.ensemble import RandomForestRegressor\n",
    "from sklearn.model_selection import GridSearchCV  \n",
    "\n",
    "rf = RandomForestRegressor()\n",
    "param_grid = { \"criterion\" : [\"mse\"]\n",
    "              , \"min_samples_leaf\" : [10,12,14]\n",
    "              , \"min_samples_split\" : [3,5]\n",
    "              , \"max_depth\": [2,4,5,7]\n",
    "              , \"n_estimators\": [10,100]}\n",
    "\n",
    "gs = GridSearchCV(estimator=rf, param_grid=param_grid, cv=3, n_jobs=1, verbose=1) # Used K-Fold Cross Validation\n",
    "gs = gs.fit(X_train, Y_train)"
   ]
  },
  {
   "cell_type": "code",
   "execution_count": 39,
   "metadata": {},
   "outputs": [
    {
     "name": "stdout",
     "output_type": "stream",
     "text": [
      "0.5825237371521347 {'criterion': 'mse', 'max_depth': 2, 'min_samples_leaf': 10, 'min_samples_split': 3, 'n_estimators': 10}\n",
      "0.5785554466434254 {'criterion': 'mse', 'max_depth': 2, 'min_samples_leaf': 10, 'min_samples_split': 3, 'n_estimators': 100}\n",
      "0.5751352695937837 {'criterion': 'mse', 'max_depth': 2, 'min_samples_leaf': 10, 'min_samples_split': 5, 'n_estimators': 10}\n",
      "0.5798723864301775 {'criterion': 'mse', 'max_depth': 2, 'min_samples_leaf': 10, 'min_samples_split': 5, 'n_estimators': 100}\n",
      "0.5716204414250168 {'criterion': 'mse', 'max_depth': 2, 'min_samples_leaf': 12, 'min_samples_split': 3, 'n_estimators': 10}\n",
      "0.5797783376590101 {'criterion': 'mse', 'max_depth': 2, 'min_samples_leaf': 12, 'min_samples_split': 3, 'n_estimators': 100}\n",
      "0.5738783402926805 {'criterion': 'mse', 'max_depth': 2, 'min_samples_leaf': 12, 'min_samples_split': 5, 'n_estimators': 10}\n",
      "0.576493589389926 {'criterion': 'mse', 'max_depth': 2, 'min_samples_leaf': 12, 'min_samples_split': 5, 'n_estimators': 100}\n",
      "0.5778574678852001 {'criterion': 'mse', 'max_depth': 2, 'min_samples_leaf': 14, 'min_samples_split': 3, 'n_estimators': 10}\n",
      "0.5788483273567858 {'criterion': 'mse', 'max_depth': 2, 'min_samples_leaf': 14, 'min_samples_split': 3, 'n_estimators': 100}\n",
      "0.578565177287259 {'criterion': 'mse', 'max_depth': 2, 'min_samples_leaf': 14, 'min_samples_split': 5, 'n_estimators': 10}\n",
      "0.5794009771396107 {'criterion': 'mse', 'max_depth': 2, 'min_samples_leaf': 14, 'min_samples_split': 5, 'n_estimators': 100}\n",
      "0.7859465682663446 {'criterion': 'mse', 'max_depth': 4, 'min_samples_leaf': 10, 'min_samples_split': 3, 'n_estimators': 10}\n",
      "0.7847277275449548 {'criterion': 'mse', 'max_depth': 4, 'min_samples_leaf': 10, 'min_samples_split': 3, 'n_estimators': 100}\n",
      "0.7836284103995875 {'criterion': 'mse', 'max_depth': 4, 'min_samples_leaf': 10, 'min_samples_split': 5, 'n_estimators': 10}\n",
      "0.7853631092144897 {'criterion': 'mse', 'max_depth': 4, 'min_samples_leaf': 10, 'min_samples_split': 5, 'n_estimators': 100}\n",
      "0.7857318771698105 {'criterion': 'mse', 'max_depth': 4, 'min_samples_leaf': 12, 'min_samples_split': 3, 'n_estimators': 10}\n",
      "0.7854004274905065 {'criterion': 'mse', 'max_depth': 4, 'min_samples_leaf': 12, 'min_samples_split': 3, 'n_estimators': 100}\n",
      "0.787833820217753 {'criterion': 'mse', 'max_depth': 4, 'min_samples_leaf': 12, 'min_samples_split': 5, 'n_estimators': 10}\n",
      "0.7835453995996902 {'criterion': 'mse', 'max_depth': 4, 'min_samples_leaf': 12, 'min_samples_split': 5, 'n_estimators': 100}\n",
      "0.7774886776947146 {'criterion': 'mse', 'max_depth': 4, 'min_samples_leaf': 14, 'min_samples_split': 3, 'n_estimators': 10}\n",
      "0.7842381486748979 {'criterion': 'mse', 'max_depth': 4, 'min_samples_leaf': 14, 'min_samples_split': 3, 'n_estimators': 100}\n",
      "0.7807926951491069 {'criterion': 'mse', 'max_depth': 4, 'min_samples_leaf': 14, 'min_samples_split': 5, 'n_estimators': 10}\n",
      "0.7869437067112396 {'criterion': 'mse', 'max_depth': 4, 'min_samples_leaf': 14, 'min_samples_split': 5, 'n_estimators': 100}\n",
      "0.8523259956679515 {'criterion': 'mse', 'max_depth': 5, 'min_samples_leaf': 10, 'min_samples_split': 3, 'n_estimators': 10}\n",
      "0.8603334645237017 {'criterion': 'mse', 'max_depth': 5, 'min_samples_leaf': 10, 'min_samples_split': 3, 'n_estimators': 100}\n",
      "0.8579561309972338 {'criterion': 'mse', 'max_depth': 5, 'min_samples_leaf': 10, 'min_samples_split': 5, 'n_estimators': 10}\n",
      "0.8580749188030359 {'criterion': 'mse', 'max_depth': 5, 'min_samples_leaf': 10, 'min_samples_split': 5, 'n_estimators': 100}\n",
      "0.8565517234697048 {'criterion': 'mse', 'max_depth': 5, 'min_samples_leaf': 12, 'min_samples_split': 3, 'n_estimators': 10}\n",
      "0.8588458564787353 {'criterion': 'mse', 'max_depth': 5, 'min_samples_leaf': 12, 'min_samples_split': 3, 'n_estimators': 100}\n",
      "0.8581769270283296 {'criterion': 'mse', 'max_depth': 5, 'min_samples_leaf': 12, 'min_samples_split': 5, 'n_estimators': 10}\n",
      "0.860251934162814 {'criterion': 'mse', 'max_depth': 5, 'min_samples_leaf': 12, 'min_samples_split': 5, 'n_estimators': 100}\n",
      "0.8557573474445296 {'criterion': 'mse', 'max_depth': 5, 'min_samples_leaf': 14, 'min_samples_split': 3, 'n_estimators': 10}\n",
      "0.859952820775263 {'criterion': 'mse', 'max_depth': 5, 'min_samples_leaf': 14, 'min_samples_split': 3, 'n_estimators': 100}\n",
      "0.8618049129753301 {'criterion': 'mse', 'max_depth': 5, 'min_samples_leaf': 14, 'min_samples_split': 5, 'n_estimators': 10}\n",
      "0.8602989354655144 {'criterion': 'mse', 'max_depth': 5, 'min_samples_leaf': 14, 'min_samples_split': 5, 'n_estimators': 100}\n",
      "0.9546547006914985 {'criterion': 'mse', 'max_depth': 7, 'min_samples_leaf': 10, 'min_samples_split': 3, 'n_estimators': 10}\n",
      "0.9525158480530757 {'criterion': 'mse', 'max_depth': 7, 'min_samples_leaf': 10, 'min_samples_split': 3, 'n_estimators': 100}\n",
      "0.9537959953404143 {'criterion': 'mse', 'max_depth': 7, 'min_samples_leaf': 10, 'min_samples_split': 5, 'n_estimators': 10}\n",
      "0.9538206978008846 {'criterion': 'mse', 'max_depth': 7, 'min_samples_leaf': 10, 'min_samples_split': 5, 'n_estimators': 100}\n",
      "0.9489723795287642 {'criterion': 'mse', 'max_depth': 7, 'min_samples_leaf': 12, 'min_samples_split': 3, 'n_estimators': 10}\n",
      "0.9526560409599013 {'criterion': 'mse', 'max_depth': 7, 'min_samples_leaf': 12, 'min_samples_split': 3, 'n_estimators': 100}\n",
      "0.945724365419822 {'criterion': 'mse', 'max_depth': 7, 'min_samples_leaf': 12, 'min_samples_split': 5, 'n_estimators': 10}\n",
      "0.9535321659942247 {'criterion': 'mse', 'max_depth': 7, 'min_samples_leaf': 12, 'min_samples_split': 5, 'n_estimators': 100}\n",
      "0.9495665099937762 {'criterion': 'mse', 'max_depth': 7, 'min_samples_leaf': 14, 'min_samples_split': 3, 'n_estimators': 10}\n",
      "0.9509829652973222 {'criterion': 'mse', 'max_depth': 7, 'min_samples_leaf': 14, 'min_samples_split': 3, 'n_estimators': 100}\n",
      "0.9435058264043723 {'criterion': 'mse', 'max_depth': 7, 'min_samples_leaf': 14, 'min_samples_split': 5, 'n_estimators': 10}\n",
      "0.9506126643372339 {'criterion': 'mse', 'max_depth': 7, 'min_samples_leaf': 14, 'min_samples_split': 5, 'n_estimators': 100}\n"
     ]
    }
   ],
   "source": [
    "cvres = gs.cv_results_\n",
    "for mean_score, params in zip(cvres[\"mean_test_score\"],cvres[\"params\"]):\n",
    "    print(mean_score,params)"
   ]
  },
  {
   "cell_type": "code",
   "execution_count": 35,
   "metadata": {},
   "outputs": [
    {
     "name": "stdout",
     "output_type": "stream",
     "text": [
      "0.9544495537863249\n",
      "{'criterion': 'mse', 'max_depth': 7, 'min_samples_leaf': 10, 'min_samples_split': 3, 'n_estimators': 100}\n"
     ]
    }
   ],
   "source": [
    "print(gs.best_score_)\n",
    "print(gs.best_params_)"
   ]
  },
  {
   "cell_type": "code",
   "execution_count": 36,
   "metadata": {},
   "outputs": [
    {
     "name": "stdout",
     "output_type": "stream",
     "text": [
      "Score: 0.96\n"
     ]
    }
   ],
   "source": [
    "bp = gs.best_params_\n",
    "forest = RandomForestRegressor(criterion=bp['criterion'],\n",
    "                              min_samples_leaf=bp['min_samples_leaf'],\n",
    "                              min_samples_split=bp['min_samples_split'],\n",
    "                              max_depth=bp['max_depth'],\n",
    "                              n_estimators=bp['n_estimators'])\n",
    "forest.fit(X_train, Y_train)\n",
    "# Explained variance score: 1 is perfect prediction\n",
    "print('Score: %.2f' % forest.score(X_test, Y_test))\n"
   ]
  },
  {
   "cell_type": "markdown",
   "metadata": {},
   "source": [
    "Accuracy of 96% !!! That's really good I feeel! But its definitely overfitting, so we need to change the list of values of hyperparameters accordingly."
   ]
  },
  {
   "cell_type": "code",
   "execution_count": 37,
   "metadata": {},
   "outputs": [],
   "source": [
    "predictions = forest.predict(X_test)"
   ]
  },
  {
   "cell_type": "code",
   "execution_count": 38,
   "metadata": {
    "scrolled": true
   },
   "outputs": [
    {
     "data": {
      "text/html": [
       "<div>\n",
       "<style scoped>\n",
       "    .dataframe tbody tr th:only-of-type {\n",
       "        vertical-align: middle;\n",
       "    }\n",
       "\n",
       "    .dataframe tbody tr th {\n",
       "        vertical-align: top;\n",
       "    }\n",
       "\n",
       "    .dataframe thead th {\n",
       "        text-align: right;\n",
       "    }\n",
       "</style>\n",
       "<table border=\"1\" class=\"dataframe\">\n",
       "  <thead>\n",
       "    <tr style=\"text-align: right;\">\n",
       "      <th></th>\n",
       "      <th>Actual Price</th>\n",
       "      <th>Predicted</th>\n",
       "    </tr>\n",
       "  </thead>\n",
       "  <tbody>\n",
       "    <tr>\n",
       "      <th>23194</th>\n",
       "      <td>11988</td>\n",
       "      <td>12670.712560</td>\n",
       "    </tr>\n",
       "    <tr>\n",
       "      <th>22846</th>\n",
       "      <td>9000</td>\n",
       "      <td>8984.060909</td>\n",
       "    </tr>\n",
       "    <tr>\n",
       "      <th>19919</th>\n",
       "      <td>13777</td>\n",
       "      <td>13811.486686</td>\n",
       "    </tr>\n",
       "    <tr>\n",
       "      <th>15252</th>\n",
       "      <td>25591</td>\n",
       "      <td>25591.000000</td>\n",
       "    </tr>\n",
       "    <tr>\n",
       "      <th>17036</th>\n",
       "      <td>8994</td>\n",
       "      <td>9948.577217</td>\n",
       "    </tr>\n",
       "  </tbody>\n",
       "</table>\n",
       "</div>"
      ],
      "text/plain": [
       "       Actual Price     Predicted\n",
       "23194         11988  12670.712560\n",
       "22846          9000   8984.060909\n",
       "19919         13777  13811.486686\n",
       "15252         25591  25591.000000\n",
       "17036          8994   9948.577217"
      ]
     },
     "execution_count": 38,
     "metadata": {},
     "output_type": "execute_result"
    }
   ],
   "source": [
    "#Creating a Data frame to compare the Actual v/s predicted prices\n",
    "df_results = pd.DataFrame({'Actual Price':Y_test, 'Predicted': predictions })\n",
    "df_results.head()"
   ]
  },
  {
   "cell_type": "markdown",
   "metadata": {},
   "source": [
    "So, lets not include the value 7 for max_depth, i.e 5 can be the highest value of max_depth."
   ]
  },
  {
   "cell_type": "code",
   "execution_count": 39,
   "metadata": {},
   "outputs": [
    {
     "name": "stdout",
     "output_type": "stream",
     "text": [
      "Fitting 3 folds for each of 36 candidates, totalling 108 fits\n"
     ]
    },
    {
     "name": "stderr",
     "output_type": "stream",
     "text": [
      "[Parallel(n_jobs=1)]: Done 108 out of 108 | elapsed:   23.9s finished\n"
     ]
    }
   ],
   "source": [
    " from sklearn.ensemble import RandomForestRegressor\n",
    "\n",
    "from sklearn.ensemble import RandomForestRegressor\n",
    "\n",
    "rf = RandomForestRegressor()\n",
    "param_grid = { \"criterion\" : [\"mse\"]\n",
    "              , \"min_samples_leaf\" : [10,12,14]\n",
    "              , \"min_samples_split\" : [3,5]\n",
    "              , \"max_depth\": [2,4,5]\n",
    "              , \"n_estimators\": [10,100]}\n",
    "\n",
    "gs = GridSearchCV(estimator=rf, param_grid=param_grid, cv=3, n_jobs=1, verbose=1) # Used K-Fold Cross Validation\n",
    "gs = gs.fit(X_train, Y_train)\n"
   ]
  },
  {
   "cell_type": "code",
   "execution_count": 40,
   "metadata": {
    "scrolled": true
   },
   "outputs": [
    {
     "name": "stdout",
     "output_type": "stream",
     "text": [
      "0.865264494203518\n",
      "{'criterion': 'mse', 'max_depth': 5, 'min_samples_leaf': 14, 'min_samples_split': 5, 'n_estimators': 10}\n"
     ]
    }
   ],
   "source": [
    "print(gs.best_score_)\n",
    "print(gs.best_params_)"
   ]
  },
  {
   "cell_type": "code",
   "execution_count": 41,
   "metadata": {
    "scrolled": true
   },
   "outputs": [
    {
     "name": "stdout",
     "output_type": "stream",
     "text": [
      "Score: 0.86\n"
     ]
    }
   ],
   "source": [
    "bp = gs.best_params_\n",
    "forest = RandomForestRegressor(criterion=bp['criterion'],\n",
    "                              min_samples_leaf=bp['min_samples_leaf'],\n",
    "                              min_samples_split=bp['min_samples_split'],\n",
    "                              max_depth=bp['max_depth'],\n",
    "                              n_estimators=bp['n_estimators'])\n",
    "forest.fit(X_train, Y_train)\n",
    "# Explained variance score: 1 is perfect prediction\n",
    "print('Score: %.2f' % forest.score(X_test, Y_test))"
   ]
  },
  {
   "cell_type": "markdown",
   "metadata": {},
   "source": [
    "We have regularized our model and the accuracy is 87. This model will generalize better "
   ]
  },
  {
   "cell_type": "code",
   "execution_count": 42,
   "metadata": {},
   "outputs": [],
   "source": [
    "predictions = forest.predict(X_test)"
   ]
  },
  {
   "cell_type": "code",
   "execution_count": 43,
   "metadata": {},
   "outputs": [
    {
     "data": {
      "text/html": [
       "<div>\n",
       "<style scoped>\n",
       "    .dataframe tbody tr th:only-of-type {\n",
       "        vertical-align: middle;\n",
       "    }\n",
       "\n",
       "    .dataframe tbody tr th {\n",
       "        vertical-align: top;\n",
       "    }\n",
       "\n",
       "    .dataframe thead th {\n",
       "        text-align: right;\n",
       "    }\n",
       "</style>\n",
       "<table border=\"1\" class=\"dataframe\">\n",
       "  <thead>\n",
       "    <tr style=\"text-align: right;\">\n",
       "      <th></th>\n",
       "      <th>Actual Price</th>\n",
       "      <th>Predicted</th>\n",
       "    </tr>\n",
       "  </thead>\n",
       "  <tbody>\n",
       "    <tr>\n",
       "      <th>23194</th>\n",
       "      <td>11988</td>\n",
       "      <td>12641.152276</td>\n",
       "    </tr>\n",
       "    <tr>\n",
       "      <th>22846</th>\n",
       "      <td>9000</td>\n",
       "      <td>9002.383387</td>\n",
       "    </tr>\n",
       "    <tr>\n",
       "      <th>19919</th>\n",
       "      <td>13777</td>\n",
       "      <td>15397.800935</td>\n",
       "    </tr>\n",
       "    <tr>\n",
       "      <th>15252</th>\n",
       "      <td>25591</td>\n",
       "      <td>23945.824439</td>\n",
       "    </tr>\n",
       "    <tr>\n",
       "      <th>17036</th>\n",
       "      <td>8994</td>\n",
       "      <td>11399.546815</td>\n",
       "    </tr>\n",
       "  </tbody>\n",
       "</table>\n",
       "</div>"
      ],
      "text/plain": [
       "       Actual Price     Predicted\n",
       "23194         11988  12641.152276\n",
       "22846          9000   9002.383387\n",
       "19919         13777  15397.800935\n",
       "15252         25591  23945.824439\n",
       "17036          8994  11399.546815"
      ]
     },
     "execution_count": 43,
     "metadata": {},
     "output_type": "execute_result"
    }
   ],
   "source": [
    "#Creating a Data frame to compare the Actual v/s predicted prices\n",
    "df_results = pd.DataFrame({'Actual Price':Y_test, 'Predicted': predictions })\n",
    "df_results.head()"
   ]
  },
  {
   "cell_type": "code",
   "execution_count": 44,
   "metadata": {},
   "outputs": [
    {
     "name": "stdout",
     "output_type": "stream",
     "text": [
      "1. YEAR (0.371925)\n",
      "2. TYPE (0.283819)\n",
      "3. MILES (0.230560)\n",
      "4. LOCATION (0.076531)\n",
      "5. COMPANY (0.032110)\n",
      "6. DISTANCE (0.005055)\n"
     ]
    },
    {
     "data": {
      "image/png": "[encoded data removed]",
      "text/plain": [
       "<Figure size 432x288 with 1 Axes>"
      ]
     },
     "metadata": {},
     "output_type": "display_data"
    }
   ],
   "source": [
    "#Code in this cell has been referred from link https://www.kaggle.com/ddmngml/trying-to-predict-used-car-value\n",
    "#storing feature importances in a variable\n",
    "feature_importances = forest.feature_importances_\n",
    "\n",
    "#sorting importances\n",
    "indices = np.argsort(feature_importances)[::-1]\n",
    "\n",
    "#calculating standard deviation of feature importances\n",
    "std = np.std([f.feature_importances_ for f in forest.estimators_],\n",
    "             axis=0)  \n",
    "\n",
    "for f in range(X.shape[1]):\n",
    "    print(\"%d. %s (%f)\" % (f + 1, X_train.columns.values[indices[f]], feature_importances[indices[f]]))\n",
    "\n",
    "# Plot the feature importances of the forest regressor\n",
    "plt.figure()\n",
    "plt.title(\"Feature importances\")\n",
    "plt.bar(range(X.shape[1]), feature_importances[indices],\n",
    "       color=\"r\", yerr=std[indices], align=\"center\",tick_label = X_train.columns.values)\n",
    "plt.xticks(range(X.shape[1]), indices)\n",
    "plt.xlim([-1, X.shape[1]])\n",
    "plt.show()"
   ]
  },
  {
   "cell_type": "markdown",
   "metadata": {},
   "source": [
    "### We can see that YEAR, TYPE and MILES travelled were the most important features in our model to predict the Price of the car! This should be taken into consideration when choosing a good deal! "
   ]
  }
 ],
 "metadata": {
  "kernelspec": {
   "display_name": "Python 3",
   "language": "python",
   "name": "python3"
  },
  "language_info": {
   "codemirror_mode": {
    "name": "ipython",
    "version": 3
   },
   "file_extension": ".py",
   "mimetype": "text/x-python",
   "name": "python",
   "nbconvert_exporter": "python",
   "pygments_lexer": "ipython3",
   "version": "3.7.1"
  }
 },
 "nbformat": 4,
 "nbformat_minor": 2
}
